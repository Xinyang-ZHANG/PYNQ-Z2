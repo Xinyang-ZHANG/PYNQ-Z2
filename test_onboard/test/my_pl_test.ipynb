{
 "cells": [
  {
   "cell_type": "code",
   "execution_count": 5,
   "metadata": {},
   "outputs": [
    {
     "name": "stdout",
     "output_type": "stream",
     "text": [
      "hello world\n"
     ]
    }
   ],
   "source": [
    "print(\"hello world\")"
   ]
  },
  {
   "cell_type": "code",
   "execution_count": 6,
   "metadata": {},
   "outputs": [],
   "source": [
    "import numpy as np"
   ]
  },
  {
   "cell_type": "code",
   "execution_count": 7,
   "metadata": {},
   "outputs": [],
   "source": [
    "import matplotlib as mpl"
   ]
  },
  {
   "cell_type": "code",
   "execution_count": 10,
   "metadata": {},
   "outputs": [
    {
     "data": {
      "text/plain": [
       "<matplotlib.image.AxesImage at 0xae643d70>"
      ]
     },
     "execution_count": 10,
     "metadata": {},
     "output_type": "execute_result"
    },
    {
     "data": {
      "image/png": "[encoded data removed]",
      "text/plain": [
       "<matplotlib.figure.Figure at 0xafa3fa70>"
      ]
     },
     "metadata": {},
     "output_type": "display_data"
    }
   ],
   "source": [
    "import matplotlib.pyplot as plt\n",
    "img = plt.imread(\"./../images/mnist/train_0.bmp\")\n",
    "plt.imshow(img)"
   ]
  },
  {
   "cell_type": "code",
   "execution_count": 9,
   "metadata": {},
   "outputs": [],
   "source": [
    "from pynq import Overlay"
   ]
  },
  {
   "cell_type": "code",
   "execution_count": 22,
   "metadata": {},
   "outputs": [],
   "source": [
    "pl_test_design = Overlay(\"./../bitstreams/pl_test.bit\")"
   ]
  },
  {
   "cell_type": "code",
   "execution_count": 23,
   "metadata": {},
   "outputs": [
    {
     "data": {
      "text/plain": [
       "{'axi_gpio_0': {'addr_range': 65536,\n",
       "  'device': <pynq.pl_server.device.XlnkDevice at 0xb0207a10>,\n",
       "  'driver': pynq.lib.axigpio.AxiGPIO,\n",
       "  'fullpath': 'axi_gpio_0',\n",
       "  'gpio': {},\n",
       "  'interrupts': {},\n",
       "  'mem_id': 'S_AXI',\n",
       "  'parameters': {'C_ALL_INPUTS': '1',\n",
       "   'C_ALL_INPUTS_2': '0',\n",
       "   'C_ALL_OUTPUTS': '0',\n",
       "   'C_ALL_OUTPUTS_2': '0',\n",
       "   'C_BASEADDR': '0x41200000',\n",
       "   'C_DOUT_DEFAULT': '0x00000000',\n",
       "   'C_DOUT_DEFAULT_2': '0x00000000',\n",
       "   'C_FAMILY': 'zynq',\n",
       "   'C_GPIO2_WIDTH': '32',\n",
       "   'C_GPIO_WIDTH': '4',\n",
       "   'C_HIGHADDR': '0x4120FFFF',\n",
       "   'C_INTERRUPT_PRESENT': '0',\n",
       "   'C_IS_DUAL': '0',\n",
       "   'C_S_AXI_ADDR_WIDTH': '9',\n",
       "   'C_S_AXI_DATA_WIDTH': '32',\n",
       "   'C_TRI_DEFAULT': '0xFFFFFFFF',\n",
       "   'C_TRI_DEFAULT_2': '0xFFFFFFFF',\n",
       "   'Component_Name': 'system_axi_gpio_0_0',\n",
       "   'EDK_IPTYPE': 'PERIPHERAL',\n",
       "   'GPIO2_BOARD_INTERFACE': 'Custom',\n",
       "   'GPIO_BOARD_INTERFACE': 'btns_4bits',\n",
       "   'USE_BOARD_FLOW': 'true'},\n",
       "  'phys_addr': 1092616192,\n",
       "  'registers': {'GIER': {'access': 'read-write',\n",
       "    'address_offset': 284,\n",
       "    'description': 'Global Interrupt Enable register',\n",
       "    'fields': {'Global Interrupt Enable': {'access': 'read-write',\n",
       "      'bit_offset': 31,\n",
       "      'bit_width': 1,\n",
       "      'description': 'Global Interrupt Enable register'}},\n",
       "    'size': 32},\n",
       "   'GPIO2_DATA': {'access': 'read-write',\n",
       "    'address_offset': 8,\n",
       "    'description': 'Channel-2 AXI GPIO Data register',\n",
       "    'fields': {'Channel-2 GPIO DATA': {'access': 'read-write',\n",
       "      'bit_offset': 0,\n",
       "      'bit_width': 32,\n",
       "      'description': 'Channel-2 AXI GPIO Data register'}},\n",
       "    'size': 32},\n",
       "   'GPIO2_TRI': {'access': 'read-write',\n",
       "    'address_offset': 12,\n",
       "    'description': 'Channel-2 AXI GPIO 3-State Control register',\n",
       "    'fields': {'Channel-2 GPIO TRI': {'access': 'read-write',\n",
       "      'bit_offset': 0,\n",
       "      'bit_width': 32,\n",
       "      'description': 'Channel-2 AXI GPIO 3-State Control register'}},\n",
       "    'size': 32},\n",
       "   'GPIO_DATA': {'access': 'read-write',\n",
       "    'address_offset': 0,\n",
       "    'description': 'Channel-1 AXI GPIO Data register',\n",
       "    'fields': {'Channel-1 GPIO DATA': {'access': 'read-write',\n",
       "      'bit_offset': 0,\n",
       "      'bit_width': 4,\n",
       "      'description': 'Channel-1 AXI GPIO Data register'}},\n",
       "    'size': 4},\n",
       "   'GPIO_TRI': {'access': 'read-write',\n",
       "    'address_offset': 4,\n",
       "    'description': 'Channel-1 AXI GPIO 3-State Control register',\n",
       "    'fields': {'Channel-1 GPIO TRI': {'access': 'read-write',\n",
       "      'bit_offset': 0,\n",
       "      'bit_width': 4,\n",
       "      'description': 'Channel-1 AXI GPIO 3-State Control register'}},\n",
       "    'size': 4},\n",
       "   'IP_IER': {'access': 'read-write',\n",
       "    'address_offset': 296,\n",
       "    'description': 'IP Interrupt Enable register',\n",
       "    'fields': {'Channel-1 Interrupt Enable': {'access': 'read-write',\n",
       "      'bit_offset': 0,\n",
       "      'bit_width': 1,\n",
       "      'description': 'IP Interrupt Enable register'},\n",
       "     'Channel-2 Interrupt Enable': {'access': 'read-write',\n",
       "      'bit_offset': 1,\n",
       "      'bit_width': 1,\n",
       "      'description': 'IP Interrupt Enable register'}},\n",
       "    'size': 32},\n",
       "   'IP_ISR': {'access': 'read-write',\n",
       "    'address_offset': 288,\n",
       "    'description': 'IP Interrupt Status register',\n",
       "    'fields': {'Channel-1 Interrupt Status': {'access': 'read-write',\n",
       "      'bit_offset': 0,\n",
       "      'bit_width': 1,\n",
       "      'description': 'IP Interrupt Status register'},\n",
       "     'Channel-2 Interrupt Status': {'access': 'read-write',\n",
       "      'bit_offset': 1,\n",
       "      'bit_width': 1,\n",
       "      'description': 'IP Interrupt Status register'}},\n",
       "    'size': 32}},\n",
       "  'state': None,\n",
       "  'type': 'xilinx.com:ip:axi_gpio:2.0'},\n",
       " 'axi_gpio_1': {'addr_range': 65536,\n",
       "  'device': <pynq.pl_server.device.XlnkDevice at 0xb0207a10>,\n",
       "  'driver': pynq.lib.axigpio.AxiGPIO,\n",
       "  'fullpath': 'axi_gpio_1',\n",
       "  'gpio': {},\n",
       "  'interrupts': {},\n",
       "  'mem_id': 'S_AXI',\n",
       "  'parameters': {'C_ALL_INPUTS': '0',\n",
       "   'C_ALL_INPUTS_2': '0',\n",
       "   'C_ALL_OUTPUTS': '0',\n",
       "   'C_ALL_OUTPUTS_2': '0',\n",
       "   'C_BASEADDR': '0x41210000',\n",
       "   'C_DOUT_DEFAULT': '0x00000000',\n",
       "   'C_DOUT_DEFAULT_2': '0x00000000',\n",
       "   'C_FAMILY': 'zynq',\n",
       "   'C_GPIO2_WIDTH': '32',\n",
       "   'C_GPIO_WIDTH': '4',\n",
       "   'C_HIGHADDR': '0x4121FFFF',\n",
       "   'C_INTERRUPT_PRESENT': '0',\n",
       "   'C_IS_DUAL': '0',\n",
       "   'C_S_AXI_ADDR_WIDTH': '9',\n",
       "   'C_S_AXI_DATA_WIDTH': '32',\n",
       "   'C_TRI_DEFAULT': '0xFFFFFFFF',\n",
       "   'C_TRI_DEFAULT_2': '0xFFFFFFFF',\n",
       "   'Component_Name': 'system_axi_gpio_1_0',\n",
       "   'EDK_IPTYPE': 'PERIPHERAL',\n",
       "   'GPIO2_BOARD_INTERFACE': 'Custom',\n",
       "   'GPIO_BOARD_INTERFACE': 'leds_4bits',\n",
       "   'USE_BOARD_FLOW': 'true'},\n",
       "  'phys_addr': 1092681728,\n",
       "  'registers': {'GIER': {'access': 'read-write',\n",
       "    'address_offset': 284,\n",
       "    'description': 'Global Interrupt Enable register',\n",
       "    'fields': {'Global Interrupt Enable': {'access': 'read-write',\n",
       "      'bit_offset': 31,\n",
       "      'bit_width': 1,\n",
       "      'description': 'Global Interrupt Enable register'}},\n",
       "    'size': 32},\n",
       "   'GPIO2_DATA': {'access': 'read-write',\n",
       "    'address_offset': 8,\n",
       "    'description': 'Channel-2 AXI GPIO Data register',\n",
       "    'fields': {'Channel-2 GPIO DATA': {'access': 'read-write',\n",
       "      'bit_offset': 0,\n",
       "      'bit_width': 32,\n",
       "      'description': 'Channel-2 AXI GPIO Data register'}},\n",
       "    'size': 32},\n",
       "   'GPIO2_TRI': {'access': 'read-write',\n",
       "    'address_offset': 12,\n",
       "    'description': 'Channel-2 AXI GPIO 3-State Control register',\n",
       "    'fields': {'Channel-2 GPIO TRI': {'access': 'read-write',\n",
       "      'bit_offset': 0,\n",
       "      'bit_width': 32,\n",
       "      'description': 'Channel-2 AXI GPIO 3-State Control register'}},\n",
       "    'size': 32},\n",
       "   'GPIO_DATA': {'access': 'read-write',\n",
       "    'address_offset': 0,\n",
       "    'description': 'Channel-1 AXI GPIO Data register',\n",
       "    'fields': {'Channel-1 GPIO DATA': {'access': 'read-write',\n",
       "      'bit_offset': 0,\n",
       "      'bit_width': 4,\n",
       "      'description': 'Channel-1 AXI GPIO Data register'}},\n",
       "    'size': 4},\n",
       "   'GPIO_TRI': {'access': 'read-write',\n",
       "    'address_offset': 4,\n",
       "    'description': 'Channel-1 AXI GPIO 3-State Control register',\n",
       "    'fields': {'Channel-1 GPIO TRI': {'access': 'read-write',\n",
       "      'bit_offset': 0,\n",
       "      'bit_width': 4,\n",
       "      'description': 'Channel-1 AXI GPIO 3-State Control register'}},\n",
       "    'size': 4},\n",
       "   'IP_IER': {'access': 'read-write',\n",
       "    'address_offset': 296,\n",
       "    'description': 'IP Interrupt Enable register',\n",
       "    'fields': {'Channel-1 Interrupt Enable': {'access': 'read-write',\n",
       "      'bit_offset': 0,\n",
       "      'bit_width': 1,\n",
       "      'description': 'IP Interrupt Enable register'},\n",
       "     'Channel-2 Interrupt Enable': {'access': 'read-write',\n",
       "      'bit_offset': 1,\n",
       "      'bit_width': 1,\n",
       "      'description': 'IP Interrupt Enable register'}},\n",
       "    'size': 32},\n",
       "   'IP_ISR': {'access': 'read-write',\n",
       "    'address_offset': 288,\n",
       "    'description': 'IP Interrupt Status register',\n",
       "    'fields': {'Channel-1 Interrupt Status': {'access': 'read-write',\n",
       "      'bit_offset': 0,\n",
       "      'bit_width': 1,\n",
       "      'description': 'IP Interrupt Status register'},\n",
       "     'Channel-2 Interrupt Status': {'access': 'read-write',\n",
       "      'bit_offset': 1,\n",
       "      'bit_width': 1,\n",
       "      'description': 'IP Interrupt Status register'}},\n",
       "    'size': 32}},\n",
       "  'state': None,\n",
       "  'type': 'xilinx.com:ip:axi_gpio:2.0'},\n",
       " 'axi_gpio_2': {'addr_range': 65536,\n",
       "  'device': <pynq.pl_server.device.XlnkDevice at 0xb0207a10>,\n",
       "  'driver': pynq.lib.axigpio.AxiGPIO,\n",
       "  'fullpath': 'axi_gpio_2',\n",
       "  'gpio': {},\n",
       "  'interrupts': {},\n",
       "  'mem_id': 'S_AXI',\n",
       "  'parameters': {'C_ALL_INPUTS': '1',\n",
       "   'C_ALL_INPUTS_2': '0',\n",
       "   'C_ALL_OUTPUTS': '0',\n",
       "   'C_ALL_OUTPUTS_2': '0',\n",
       "   'C_BASEADDR': '0x41220000',\n",
       "   'C_DOUT_DEFAULT': '0x00000000',\n",
       "   'C_DOUT_DEFAULT_2': '0x00000000',\n",
       "   'C_FAMILY': 'zynq',\n",
       "   'C_GPIO2_WIDTH': '32',\n",
       "   'C_GPIO_WIDTH': '2',\n",
       "   'C_HIGHADDR': '0x4122FFFF',\n",
       "   'C_INTERRUPT_PRESENT': '0',\n",
       "   'C_IS_DUAL': '0',\n",
       "   'C_S_AXI_ADDR_WIDTH': '9',\n",
       "   'C_S_AXI_DATA_WIDTH': '32',\n",
       "   'C_TRI_DEFAULT': '0xFFFFFFFF',\n",
       "   'C_TRI_DEFAULT_2': '0xFFFFFFFF',\n",
       "   'Component_Name': 'system_axi_gpio_2_0',\n",
       "   'EDK_IPTYPE': 'PERIPHERAL',\n",
       "   'GPIO2_BOARD_INTERFACE': 'Custom',\n",
       "   'GPIO_BOARD_INTERFACE': 'sws_2bits',\n",
       "   'USE_BOARD_FLOW': 'true'},\n",
       "  'phys_addr': 1092747264,\n",
       "  'registers': {'GIER': {'access': 'read-write',\n",
       "    'address_offset': 284,\n",
       "    'description': 'Global Interrupt Enable register',\n",
       "    'fields': {'Global Interrupt Enable': {'access': 'read-write',\n",
       "      'bit_offset': 31,\n",
       "      'bit_width': 1,\n",
       "      'description': 'Global Interrupt Enable register'}},\n",
       "    'size': 32},\n",
       "   'GPIO2_DATA': {'access': 'read-write',\n",
       "    'address_offset': 8,\n",
       "    'description': 'Channel-2 AXI GPIO Data register',\n",
       "    'fields': {'Channel-2 GPIO DATA': {'access': 'read-write',\n",
       "      'bit_offset': 0,\n",
       "      'bit_width': 32,\n",
       "      'description': 'Channel-2 AXI GPIO Data register'}},\n",
       "    'size': 32},\n",
       "   'GPIO2_TRI': {'access': 'read-write',\n",
       "    'address_offset': 12,\n",
       "    'description': 'Channel-2 AXI GPIO 3-State Control register',\n",
       "    'fields': {'Channel-2 GPIO TRI': {'access': 'read-write',\n",
       "      'bit_offset': 0,\n",
       "      'bit_width': 32,\n",
       "      'description': 'Channel-2 AXI GPIO 3-State Control register'}},\n",
       "    'size': 32},\n",
       "   'GPIO_DATA': {'access': 'read-write',\n",
       "    'address_offset': 0,\n",
       "    'description': 'Channel-1 AXI GPIO Data register',\n",
       "    'fields': {'Channel-1 GPIO DATA': {'access': 'read-write',\n",
       "      'bit_offset': 0,\n",
       "      'bit_width': 2,\n",
       "      'description': 'Channel-1 AXI GPIO Data register'}},\n",
       "    'size': 2},\n",
       "   'GPIO_TRI': {'access': 'read-write',\n",
       "    'address_offset': 4,\n",
       "    'description': 'Channel-1 AXI GPIO 3-State Control register',\n",
       "    'fields': {'Channel-1 GPIO TRI': {'access': 'read-write',\n",
       "      'bit_offset': 0,\n",
       "      'bit_width': 2,\n",
       "      'description': 'Channel-1 AXI GPIO 3-State Control register'}},\n",
       "    'size': 2},\n",
       "   'IP_IER': {'access': 'read-write',\n",
       "    'address_offset': 296,\n",
       "    'description': 'IP Interrupt Enable register',\n",
       "    'fields': {'Channel-1 Interrupt Enable': {'access': 'read-write',\n",
       "      'bit_offset': 0,\n",
       "      'bit_width': 1,\n",
       "      'description': 'IP Interrupt Enable register'},\n",
       "     'Channel-2 Interrupt Enable': {'access': 'read-write',\n",
       "      'bit_offset': 1,\n",
       "      'bit_width': 1,\n",
       "      'description': 'IP Interrupt Enable register'}},\n",
       "    'size': 32},\n",
       "   'IP_ISR': {'access': 'read-write',\n",
       "    'address_offset': 288,\n",
       "    'description': 'IP Interrupt Status register',\n",
       "    'fields': {'Channel-1 Interrupt Status': {'access': 'read-write',\n",
       "      'bit_offset': 0,\n",
       "      'bit_width': 1,\n",
       "      'description': 'IP Interrupt Status register'},\n",
       "     'Channel-2 Interrupt Status': {'access': 'read-write',\n",
       "      'bit_offset': 1,\n",
       "      'bit_width': 1,\n",
       "      'description': 'IP Interrupt Status register'}},\n",
       "    'size': 32}},\n",
       "  'state': None,\n",
       "  'type': 'xilinx.com:ip:axi_gpio:2.0'}}"
      ]
     },
     "execution_count": 23,
     "metadata": {},
     "output_type": "execute_result"
    }
   ],
   "source": [
    "pl_test_design.ip_dict"
   ]
  },
  {
   "cell_type": "code",
   "execution_count": 24,
   "metadata": {},
   "outputs": [
    {
     "data": {
      "text/plain": [
       "'0x41200000'"
      ]
     },
     "execution_count": 24,
     "metadata": {},
     "output_type": "execute_result"
    }
   ],
   "source": [
    "hex(pl_test_design.ip_dict[\"axi_gpio_0\"][\"phys_addr\"])"
   ]
  },
  {
   "cell_type": "code",
   "execution_count": 26,
   "metadata": {},
   "outputs": [],
   "source": [
    "from pynq.lib import AxiGPIO\n",
    "\n",
    "buttons_instance = pl_test_design.ip_dict['axi_gpio_0']\n",
    "buttons = AxiGPIO(buttons_instance).channel1"
   ]
  },
  {
   "cell_type": "code",
   "execution_count": 27,
   "metadata": {},
   "outputs": [
    {
     "data": {
      "text/plain": [
       "0"
      ]
     },
     "execution_count": 27,
     "metadata": {},
     "output_type": "execute_result"
    }
   ],
   "source": [
    "buttons.read()"
   ]
  },
  {
   "cell_type": "code",
   "execution_count": 28,
   "metadata": {},
   "outputs": [],
   "source": [
    "switches_instance = pl_test_design.ip_dict['axi_gpio_2']\n",
    "switches = AxiGPIO(switches_instance).channel1"
   ]
  },
  {
   "cell_type": "code",
   "execution_count": 29,
   "metadata": {},
   "outputs": [
    {
     "data": {
      "text/plain": [
       "2"
      ]
     },
     "execution_count": 29,
     "metadata": {},
     "output_type": "execute_result"
    }
   ],
   "source": [
    "switches.read()"
   ]
  },
  {
   "cell_type": "code",
   "execution_count": 30,
   "metadata": {},
   "outputs": [],
   "source": [
    "led_instance = pl_test_design.ip_dict['axi_gpio_1']\n",
    "led = AxiGPIO(led_instance).channel1"
   ]
  },
  {
   "cell_type": "code",
   "execution_count": 19,
   "metadata": {},
   "outputs": [],
   "source": [
    "led[0:4].write(0x1)"
   ]
  },
  {
   "cell_type": "code",
   "execution_count": 31,
   "metadata": {},
   "outputs": [
    {
     "ename": "KeyboardInterrupt",
     "evalue": "",
     "output_type": "error",
     "traceback": [
      "\u001b[0;31m---------------------------------------------------------------------------\u001b[0m",
      "\u001b[0;31mKeyboardInterrupt\u001b[0m                         Traceback (most recent call last)",
      "\u001b[0;32m<ipython-input-31-cedb6c5766cf>\u001b[0m in \u001b[0;36m<module>\u001b[0;34m()\u001b[0m\n\u001b[1;32m      7\u001b[0m     \u001b[0msleep\u001b[0m\u001b[0;34m(\u001b[0m\u001b[0;36m1\u001b[0m\u001b[0;34m)\u001b[0m\u001b[0;34m\u001b[0m\u001b[0m\n\u001b[1;32m      8\u001b[0m     \u001b[0mled\u001b[0m\u001b[0;34m[\u001b[0m\u001b[0;36m0\u001b[0m\u001b[0;34m:\u001b[0m\u001b[0;36m4\u001b[0m\u001b[0;34m]\u001b[0m\u001b[0;34m.\u001b[0m\u001b[0mwrite\u001b[0m\u001b[0;34m(\u001b[0m\u001b[0;36m0x7\u001b[0m\u001b[0;34m)\u001b[0m\u001b[0;34m\u001b[0m\u001b[0m\n\u001b[0;32m----> 9\u001b[0;31m     \u001b[0msleep\u001b[0m\u001b[0;34m(\u001b[0m\u001b[0;36m1\u001b[0m\u001b[0;34m)\u001b[0m\u001b[0;34m\u001b[0m\u001b[0m\n\u001b[0m\u001b[1;32m     10\u001b[0m     \u001b[0mled\u001b[0m\u001b[0;34m[\u001b[0m\u001b[0;36m0\u001b[0m\u001b[0;34m:\u001b[0m\u001b[0;36m4\u001b[0m\u001b[0;34m]\u001b[0m\u001b[0;34m.\u001b[0m\u001b[0mwrite\u001b[0m\u001b[0;34m(\u001b[0m\u001b[0;36m0xf\u001b[0m\u001b[0;34m)\u001b[0m\u001b[0;34m\u001b[0m\u001b[0m\n\u001b[1;32m     11\u001b[0m     \u001b[0msleep\u001b[0m\u001b[0;34m(\u001b[0m\u001b[0;36m1\u001b[0m\u001b[0;34m)\u001b[0m\u001b[0;34m\u001b[0m\u001b[0m\n",
      "\u001b[0;31mKeyboardInterrupt\u001b[0m: "
     ]
    }
   ],
   "source": [
    "from time import sleep\n",
    "\n",
    "while(1):\n",
    "    led[0:4].write(0x1)\n",
    "    sleep(1)\n",
    "    led[0:4].write(0x3)\n",
    "    sleep(1)\n",
    "    led[0:4].write(0x7)\n",
    "    sleep(1)\n",
    "    led[0:4].write(0xf)\n",
    "    sleep(1)\n",
    "    led[0:4].off()\n",
    "    sleep(1)"
   ]
  },
  {
   "cell_type": "code",
   "execution_count": 22,
   "metadata": {},
   "outputs": [],
   "source": [
    "led[0:4].off()"
   ]
  },
  {
   "cell_type": "code",
   "execution_count": null,
   "metadata": {},
   "outputs": [],
   "source": []
  },
  {
   "cell_type": "code",
   "execution_count": null,
   "metadata": {},
   "outputs": [],
   "source": []
  }
 ],
 "metadata": {
  "kernelspec": {
   "display_name": "Python 3",
   "language": "python",
   "name": "python3"
  },
  "language_info": {
   "codemirror_mode": {
    "name": "ipython",
    "version": 3
   },
   "file_extension": ".py",
   "mimetype": "text/x-python",
   "name": "python",
   "nbconvert_exporter": "python",
   "pygments_lexer": "ipython3",
   "version": "3.6.5"
  }
 },
 "nbformat": 4,
 "nbformat_minor": 1
}
